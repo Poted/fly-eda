{
 "cells": [
  {
   "cell_type": "markdown",
   "id": "d753a980",
   "metadata": {},
   "source": [
    "# Flight Price Exploratory Data Analysis\n",
    "\n",
    "## Project Overview\n",
    "\n",
    "This project is an Exploratory Data Analysis (EDA) for flight prices.\n",
    "Base on two datasets for two flight classes we:\n",
    "\n",
    "- create clean dataset,\n",
    "- then we explore this data to investigate which factors (class, airline, booking time, etc.) have the biggest impact\n",
    "- and at the end we try to predict ticket price by creating a model.\n",
    "\n",
    "We simulate that the current date, used for predicting prices based on the time remaining until departure, is '10-02-2022' as our data is for period between february 11 and march 31 of the year 2022.\n",
    "\n",
    "## How to run this\n",
    "\n",
    "### Setup\n",
    "\n",
    "To setup this project we use `./run.sh` script which should work both on Windows and Linux.\n",
    "\n",
    "This setup has following steps:\n",
    "\n",
    "- creating Python virtual environment using `venv` (which should be preinstalled),\n",
    "- activating this environment,\n",
    "- installing dependencies from `requirements.txt` in it,\n",
    "- cleaning and preparing main dataset that will be used in this notebook.\n",
    "\n",
    "## Research Questions\n",
    "\n",
    "- **Class Difference**: How much more do Business-class tickets cost compared to Economy?\n",
    "- **Airline Comparison**: Do ticket prices differ a lot between airlines?\n",
    "- **Last-minute Booking**: How are prices affected if you book just 1 or 2 days before departure?\n",
    "- **Timing Effects**: Does the departure or arrival time of day change ticket prices?\n",
    "- **Route Impact**: How do different source/destination cities influence price?\n",
    "- **Key Drivers**: Which features seem to influence the price the most?\n",
    "\n",
    "## Dataset Overview\n",
    "\n",
    "The dataset has 11 columns:\n",
    "\n",
    "- Airline: Name of one of 8 airlines,\n",
    "- Flight: Flight code (like SG-8709),\n",
    "- Source City: Name of one of 6 cities where flight departure,\n",
    "- Departure Time: Part of the day of the departue,\n",
    "- Stops: Number of stops on the route,\n",
    "- Arrival Time: Part of the day of the arrival,\n",
    "- Destination City: Name of one of 6 cities where the flight lands.\n",
    "- Class: Ticket class: Economy or Business.\n",
    "- Duration: Total flight time in hours (numeric).\n",
    "- Days Left: How many days between the booking date and the flight date (numeric).\n",
    "- Price: Ticket price (numeric).\n",
    "\n",
    "All columns except price will be used as inputs to predict price.\n"
   ]
  },
  {
   "cell_type": "code",
   "execution_count": null,
   "id": "92ecfd62",
   "metadata": {},
   "outputs": [],
   "source": [
    "import pandas as pd\n",
    "import seaborn as sns\n",
    "import matplotlib.pyplot as plt\n",
    "\n",
    "from sklearn.model_selection import train_test_split\n",
    "from sklearn.metrics import mean_absolute_error, r2_score\n",
    "\n",
    "from sklearn.linear_model import LinearRegression\n",
    "from xgboost import XGBRegressor\n",
    "from sklearn.neighbors import KNeighborsRegressor\n",
    "from catboost import CatBoostRegressor\n",
    "\n",
    "sns.set_style(\"whitegrid\")"
   ]
  },
  {
   "cell_type": "code",
   "execution_count": null,
   "id": "396f6c0e",
   "metadata": {},
   "outputs": [],
   "source": [
    "df = pd.read_csv(\"data/clean_dataset.csv\", index_col=0)\n",
    "print(f\"There are {df.shape[0]} observations and {df.shape[1]} columns in the data.\")\n",
    "df.head()"
   ]
  },
  {
   "cell_type": "code",
   "execution_count": null,
   "id": "59a5e7d6",
   "metadata": {},
   "outputs": [],
   "source": [
    "print(df.isnull().sum())"
   ]
  },
  {
   "cell_type": "markdown",
   "id": "2b243261",
   "metadata": {},
   "source": [
    "No missing values were found.\n"
   ]
  },
  {
   "cell_type": "code",
   "execution_count": null,
   "id": "888b0b27",
   "metadata": {},
   "outputs": [],
   "source": [
    "df.describe(include='all').T"
   ]
  },
  {
   "cell_type": "markdown",
   "id": "ec5b40cc",
   "metadata": {},
   "source": [
    "# Summary\n",
    "\n",
    "The summary shows that the data is well-structured, with a count of 300,257 non-null observations (rows) for each column.\n",
    "\n",
    "## Categorical Features\n",
    "\n",
    "- **Airline**: There are 8 unique airlines, with Vistara being the most frequent.\n",
    "\n",
    "- **Flight**: The dataset contains 1,569 unique flight numbers.\n",
    "\n",
    "- **Departure/Arrival City**: There are 6 unique source and destination cities, with Delhi being the most frequent departure city and Mumbai the most frequent destination city.\n",
    "\n",
    "- **Departure/Arrival Time**: The data is categorized into 5 unique time slots, with Morning being the most frequent departure time and Night being the most frequent arrival time.\n",
    "\n",
    "- **Class**: There are two unique classes, Economy and Business.\n",
    "\n",
    "## Numerical Features:\n",
    "\n",
    "- **Duration**: The mean flight duration is approximately 12.2 hours. The duration ranges from as short as 0.83 hours (50 minutes) to as long as 49.83 hours.\n",
    "\n",
    "- **Days Left**: The number of days left until departure ranges from 1 to 49 days, with an average of approximately 26 days.\n",
    "\n",
    "- **Price**: The average ticket price is approximately $20,884, but the standard deviation is very high ($22,695), suggesting a wide spread of prices. This is further supported by the 25th percentile being around $4,783 and the 75th percentile being around $42,521"
   ]
  },
  {
   "cell_type": "code",
   "execution_count": null,
   "id": "e7ca1635",
   "metadata": {},
   "outputs": [],
   "source": [
    "plt.figure(figsize=(12,5))\n",
    "plt.subplot(1, 2, 1)\n",
    "sns.boxplot(x='price', data=df)\n",
    "plt.title(\"Ticket Price Boxplot\")\n",
    "\n",
    "plt.subplot(1, 2, 2)\n",
    "sns.histplot(x='price', data=df, kde=True)\n",
    "plt.title(\"Ticket Price Distribution\")\n",
    "plt.show()"
   ]
  },
  {
   "cell_type": "markdown",
   "id": "e2efd3ec",
   "metadata": {},
   "source": [
    "The boxplot and histogram for ticket price reveal key characteristics of our data.\n",
    "\n",
    "The distribution is heavily right-skewed, as evidenced by a long tail of high-priced flights and a large cluster of outliers.\n",
    "\n",
    "The histogram's bimodal shape, with two distinct peaks, strongly suggests the presence of two price clusters: one for more affordable economy class tickets and another for higher-priced business class tickets.\n",
    "\n",
    "This observation explains the significant difference between the mean and median price.\n"
   ]
  },
  {
   "cell_type": "markdown",
   "id": "0cfae3d9",
   "metadata": {},
   "source": [
    "# Average Ticket Price by Airline and Class\n",
    "\n",
    "The barplot visualizes the average ticket price, broken down by both airline and class.\n",
    "\n",
    "This gives us a clear understanding of the price differentiation between different airlines and ticket classes.\n"
   ]
  },
  {
   "cell_type": "code",
   "execution_count": null,
   "id": "dfa732c2",
   "metadata": {},
   "outputs": [],
   "source": [
    "plt.figure(figsize=(8,6))\n",
    "sns.barplot(x='airline', y='price', hue='class', data=df)\n",
    "plt.title(\"Average Ticket Price by Airline and Class\", fontsize=14)\n",
    "plt.ylabel(\"Avg Price\")\n",
    "plt.show()"
   ]
  },
  {
   "cell_type": "markdown",
   "id": "ab724297",
   "metadata": {},
   "source": [
    "# Price: Economy vs Business\n",
    "\n",
    "To directly compare Economy vs Business class prices, let's plot average price by airline and class. (We know Business tickets are usually more expensive. This will confirm how big the difference is.)\n",
    "\n",
    "## Insight\n",
    "\n",
    "Business class is only offered by Air India and Vistara in this dataset. The Business tickets are dramatically more expensive – roughly about 4–5 times the Economy price for the same airline.\n"
   ]
  },
  {
   "cell_type": "markdown",
   "id": "28ea0a05",
   "metadata": {},
   "source": [
    "# Price vs Airline\n",
    "\n",
    "Since class heavily affects the price, we will compare airlines within economy class.\n"
   ]
  },
  {
   "cell_type": "code",
   "execution_count": null,
   "id": "60f46537",
   "metadata": {},
   "outputs": [],
   "source": [
    "economy_df = df[df['class']=='Economy']\n",
    "plt.figure(figsize=(8,6))\n",
    "sns.barplot(x='airline', y='price', data=economy_df)\n",
    "plt.title(\"Average Economy Ticket Price by Airline\", fontsize=14)\n",
    "plt.ylabel(\"Avg Price (Economy)\")\n",
    "plt.show()"
   ]
  },
  {
   "cell_type": "markdown",
   "id": "fd751851",
   "metadata": {},
   "source": [
    "This shows that AirAsia tends to have the cheapest tickets, while Vistara and Air India are more expensive among economy flights.\n",
    "\n",
    "In general, prices vary by airline, even in the same class, though not as dramatically as the class difference.\n"
   ]
  },
  {
   "cell_type": "markdown",
   "id": "01c17ce0",
   "metadata": {},
   "source": [
    "# Booking Time (Days Left vs Price)\n",
    "\n",
    "Next we check how does the time of booking affect price. In general, last-minute tickets (1–2 days before departure) are more expensive."
   ]
  },
  {
   "cell_type": "code",
   "execution_count": null,
   "id": "32fab5a7",
   "metadata": {},
   "outputs": [],
   "source": [
    "avg_price_by_days = df.groupby('days_left')['price'].mean().reset_index()\n",
    "plt.figure(figsize=(8,5))\n",
    "sns.lineplot(data=avg_price_by_days, x='days_left', y='price')\n",
    "plt.title(\"Average Ticket Price vs Days Before Departure\", fontsize=14)\n",
    "plt.ylabel(\"Avg Price\")\n",
    "plt.xlabel(\"Days Left (Booking vs Departure)\")\n",
    "plt.show()"
   ]
  },
  {
   "cell_type": "markdown",
   "id": "fa098e03",
   "metadata": {},
   "source": [
    "This reveals a clear pattern: tickets bought very close to the departure date tend to cost more.\n",
    "\n",
    "For example, booking 1-2 days ahead can be much more expensive than booking weeks in advance.\n"
   ]
  },
  {
   "cell_type": "markdown",
   "id": "5ab1f787",
   "metadata": {},
   "source": [
    "# Time of Day & Route\n",
    "\n",
    "This section investigates how ticket price is influenced by the time of day and the flight route."
   ]
  },
  {
   "cell_type": "code",
   "execution_count": null,
   "id": "2cd7dd03",
   "metadata": {},
   "outputs": [],
   "source": [
    "plt.figure(figsize=(8, 5))\n",
    "sns.boxplot(x=\"departure_time\", y=\"price\", hue=\"departure_time\", data=df, palette=\"Set2\", legend=False)\n",
    "plt.title(\"Flight Price by Time of Day\")\n",
    "plt.xlabel(\"Departure Time\")\n",
    "plt.ylabel(\"Price\")\n",
    "plt.xticks(rotation=45)\n",
    "plt.tight_layout()\n",
    "plt.show()"
   ]
  },
  {
   "cell_type": "markdown",
   "id": "88294b9e",
   "metadata": {},
   "source": [
    "The boxplot shows that while there is a wide range of prices at all times of the day, the median price for flights departing in the Early Morning, Morning, Afternoon, and Night are all quite similar.\n",
    "\n",
    "This suggests that the time of day is not the primary factor influencing the base ticket price."
   ]
  },
  {
   "cell_type": "code",
   "execution_count": null,
   "id": "b32d8ede",
   "metadata": {},
   "outputs": [],
   "source": [
    "df[\"route\"] = df[\"source_city\"] + \" → \" + df[\"destination_city\"]\n",
    "\n",
    "plt.figure(figsize=(10, 6))\n",
    "sns.boxplot(x=\"route\", y=\"price\", hue=\"route\", data=df, palette=\"Set2\", legend=False)\n",
    "plt.title(\"Flight Price by Route\")\n",
    "plt.xlabel(\"Route\")\n",
    "plt.ylabel(\"Price\")\n",
    "plt.xticks(rotation=45)\n",
    "plt.tight_layout()\n",
    "plt.show()\n",
    "\n",
    "df.drop(columns=[\"route\"], inplace=True)"
   ]
  },
  {
   "cell_type": "markdown",
   "id": "c537ba8c",
   "metadata": {},
   "source": [
    "This boxplot reveals that the flight route has a more significant impact on price.\n",
    "\n",
    "The median prices vary greatly between different routes.\n",
    "\n",
    "For example, some routes, like Hyderabad -> Bangalore, appear to be less expensive on average compared to others, such as Delhi -> Hyderabad.\n",
    "\n",
    "This indicates that supply and demand for specific routes play a key role in pricing."
   ]
  },
  {
   "cell_type": "markdown",
   "id": "eead566e",
   "metadata": {},
   "source": [
    "# Summary\n",
    "\n",
    "- **Class (Business vs Economy)**: Massive price difference. A very strong effect - business class costs much more.\n",
    "- **Days Left**: Booking very late tends to raise price significantly.\n",
    "- **Airline**: Some airlines tend to be expensive (Vistara/Air India) while others seem to be cheaper (AirAsia).\n",
    "- **Time of Day**: Despite the slightly lower price in the afternoon, this doesn't seem to be significant factor for the price.\n",
    "- **Route**: The flight route has a more notable impact than the time of day, as demand and other factors cause significant price variations between different routes.\n"
   ]
  },
  {
   "cell_type": "markdown",
   "id": "e5c45cab",
   "metadata": {},
   "source": [
    "# Machine Learning Model\n",
    "\n",
    "Now we'll build a predictive model for ticket price.\n",
    "\n",
    "First, we prepare the data with encoding for categorical features, split it into train/test, and then try a few regressors:\n",
    "- Linear Regression,\n",
    "- KNN,\n",
    "- XGBoost,\n",
    "- CatBoost\n",
    "to see which performs best (using cross-validated R²).\n",
    "\n",
    "Then we'll apply the best one on the test set."
   ]
  },
  {
   "cell_type": "code",
   "execution_count": null,
   "id": "aae91316",
   "metadata": {},
   "outputs": [],
   "source": [
    "def preprocessing(df):\n",
    "    for col in ['airline','flight','source_city','departure_time','arrival_time','destination_city','class','stops']:\n",
    "        df[col] = df[col].astype('category')\n",
    "    return df\n",
    "\n",
    "df = preprocessing(df)"
   ]
  },
  {
   "cell_type": "code",
   "execution_count": null,
   "id": "e4d991c8",
   "metadata": {},
   "outputs": [],
   "source": [
    "X = df.copy()\n",
    "y = X.pop(\"price\")\n",
    "X_train, X_test, y_train, y_test = train_test_split(X, y, test_size=0.3, random_state=1, shuffle=True)"
   ]
  },
  {
   "cell_type": "code",
   "execution_count": null,
   "id": "263a375e",
   "metadata": {},
   "outputs": [],
   "source": [
    "models = {\n",
    "    \"KNN\": KNeighborsRegressor(n_neighbors=50),\n",
    "    \"LinearRegression\": LinearRegression(),\n",
    "    \"XGB\": XGBRegressor(n_jobs=5, learning_rate=0.1, max_depth=10, random_state=1),\n",
    "    \"CatBoost\": CatBoostRegressor(logging_level='Silent', iterations=500, random_state=1)\n",
    "}"
   ]
  },
  {
   "cell_type": "code",
   "execution_count": null,
   "id": "7f1ff808",
   "metadata": {},
   "outputs": [],
   "source": [
    "from sklearn.model_selection import cross_val_score\n",
    "\n",
    "def score_model(X, y, model):\n",
    "    X_enc = X.copy()\n",
    "    for col in X_enc.select_dtypes(['category']):\n",
    "        X_enc[col] = X_enc[col].cat.codes\n",
    "    scores = cross_val_score(model, X_enc, y, cv=5, scoring=\"r2\")\n",
    "    return scores.mean()"
   ]
  },
  {
   "cell_type": "markdown",
   "id": "ac04506a",
   "metadata": {},
   "source": [
    "# Model Evaluation\n",
    "\n",
    "Here we are going to evaluate each model to test which one will be the best for our task."
   ]
  },
  {
   "cell_type": "code",
   "execution_count": null,
   "id": "fa88a609",
   "metadata": {},
   "outputs": [],
   "source": [
    "for name, model in models.items():\n",
    "    r2 = score_model(X_train, y_train, model)\n",
    "    print(f\"{name} R2 (5-fold CV): {r2:.3f}\")"
   ]
  },
  {
   "cell_type": "markdown",
   "id": "1414e142",
   "metadata": {},
   "source": [
    "XGBRegressor gives by far the highest R² (~0.98) on the training folds, followed closely by CatBoost. \n",
    "\n",
    "This suggests XGBoost is capturing the data patterns best (likely because of non-linear effects like class)."
   ]
  },
  {
   "cell_type": "code",
   "execution_count": null,
   "id": "1d4c78da",
   "metadata": {},
   "outputs": [],
   "source": [
    "best_model = XGBRegressor(n_jobs=5, learning_rate=0.1, max_depth=10, random_state=1)\n",
    "\n",
    "X_train_enc = X_train.copy()\n",
    "X_test_enc = X_test.copy()\n",
    "for col in X_train_enc.select_dtypes(['category']):\n",
    "    X_train_enc[col] = X_train_enc[col].cat.codes\n",
    "    X_test_enc[col] = X_test_enc[col].cat.codes\n",
    "\n",
    "best_model.fit(X_train_enc, y_train)\n",
    "pred = best_model.predict(X_test_enc)\n",
    "\n",
    "test_r2 = r2_score(y_test, pred)\n",
    "test_mae = mean_absolute_error(y_test, pred)\n",
    "print(f\"Test set R²: {test_r2:.4f}\")\n",
    "print(f\"Test set MAE: {test_mae:.2f}\")"
   ]
  },
  {
   "cell_type": "markdown",
   "id": "75000966",
   "metadata": {},
   "source": [
    "# Model Prediction Result\n",
    "\n",
    "Our trained XGBoost model has yielded excellent results on the test dataset.\n",
    "\n",
    "- **High R² Score**: With an R² of 0.9880, the model explains nearly 99% of the variance in the ticket prices.\n",
    "This indicates that the features we used (class, days left, airline, etc.) are highly predictive and that the model has learned the underlying patterns in the data exceptionally well.\n",
    "\n",
    "- **Low Mean Absolute Error (MAE)**: The model's MAE of 1273.89 shows that, on average, the predicted price is off by about $1,274. \n",
    "Given that the mean ticket price in our dataset is over $20,000, this is a very small and acceptable error margin.\n",
    "\n",
    "- **Generalization**: The strong performance on the unseen test data demonstrates that the model generalizes well and is not overfitting to the training data.\n",
    "This means it can be relied upon to make accurate predictions on new, real-world flight data.\n",
    "\n",
    "## Conclusion\n",
    "\n",
    "In conclusion, the combination of our well-structured and cleaned dataset and the powerful XGBoost algorithm has resulted in a highly accurate and robust predictive model for flight ticket prices.\n",
    "\n",
    "The results are a testament to the effectiveness of the Exploratory Data Analysis and data preprocessing steps we performed."
   ]
  }
 ],
 "metadata": {
  "kernelspec": {
   "display_name": "eda_env",
   "language": "python",
   "name": "python3"
  },
  "language_info": {
   "codemirror_mode": {
    "name": "ipython",
    "version": 3
   },
   "file_extension": ".py",
   "mimetype": "text/x-python",
   "name": "python",
   "nbconvert_exporter": "python",
   "pygments_lexer": "ipython3",
   "version": "3.11.0"
  }
 },
 "nbformat": 4,
 "nbformat_minor": 5
}
